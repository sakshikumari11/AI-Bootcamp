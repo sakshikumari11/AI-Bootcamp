{
  "nbformat": 4,
  "nbformat_minor": 0,
  "metadata": {
    "colab": {
      "provenance": []
    },
    "kernelspec": {
      "name": "python3",
      "display_name": "Python 3"
    },
    "language_info": {
      "name": "python"
    }
  },
  "cells": [
    {
      "cell_type": "code",
      "execution_count": 1,
      "metadata": {
        "colab": {
          "base_uri": "https://localhost:8080/"
        },
        "id": "fMOiw1BQ66eg",
        "outputId": "ed668d8f-080a-48cb-a9a9-85e37b0a04cb"
      },
      "outputs": [
        {
          "output_type": "stream",
          "name": "stdout",
          "text": [
            "Simple Calculator\n",
            "Choose operation: +  -  *  /\n",
            "Enter first number: 25\n",
            "Enter operator (+, -, *, /): *\n",
            "Enter second number: 5\n",
            "Result: 125.0\n"
          ]
        }
      ],
      "source": [
        "def calculator():\n",
        "    print(\"Simple Calculator\")\n",
        "    print(\"Choose operation: +  -  *  /\")\n",
        "\n",
        "    num1 = float(input(\"Enter first number: \"))\n",
        "    operator = input(\"Enter operator (+, -, *, /): \")\n",
        "    num2 = float(input(\"Enter second number: \"))\n",
        "\n",
        "    if operator == '+':\n",
        "        result = num1 + num2\n",
        "    elif operator == '-':\n",
        "        result = num1 - num2\n",
        "    elif operator == '*':\n",
        "        result = num1 * num2\n",
        "    elif operator == '/':\n",
        "        if num2 != 0:\n",
        "            result = num1 / num2\n",
        "        else:\n",
        "            print(\"Error: Division by zero!\")\n",
        "            return\n",
        "    else:\n",
        "        print(\"Invalid operator!\")\n",
        "        return\n",
        "\n",
        "    print(f\"Result: {result}\")\n",
        "\n",
        "calculator()\n"
      ]
    }
  ]
}